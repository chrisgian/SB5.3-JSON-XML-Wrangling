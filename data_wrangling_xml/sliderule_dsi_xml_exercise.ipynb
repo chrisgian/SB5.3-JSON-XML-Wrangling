{
 "cells": [
  {
   "cell_type": "markdown",
   "metadata": {},
   "source": [
    "# XML example and exercise\n",
    "****\n",
    "+ study examples of accessing nodes in XML tree structure  \n",
    "+ work on exercise to be completed and submitted\n",
    "****\n",
    "+ reference: https://docs.python.org/2.7/library/xml.etree.elementtree.html\n",
    "+ data source: http://www.dbis.informatik.uni-goettingen.de/Mondial\n",
    "****"
   ]
  },
  {
   "cell_type": "code",
   "execution_count": 10,
   "metadata": {
    "collapsed": true
   },
   "outputs": [],
   "source": [
    "from xml.etree import ElementTree as ET"
   ]
  },
  {
   "cell_type": "markdown",
   "metadata": {},
   "source": [
    "## XML example\n",
    "\n",
    "+ for details about tree traversal and iterators, see https://docs.python.org/2.7/library/xml.etree.elementtree.html"
   ]
  },
  {
   "cell_type": "code",
   "execution_count": 11,
   "metadata": {
    "collapsed": true
   },
   "outputs": [],
   "source": [
    "document_tree = ET.parse( './data/mondial_database_less.xml' )"
   ]
  },
  {
   "cell_type": "code",
   "execution_count": 12,
   "metadata": {},
   "outputs": [
    {
     "name": "stdout",
     "output_type": "stream",
     "text": [
      "Albania\n",
      "Greece\n",
      "Macedonia\n",
      "Serbia\n",
      "Montenegro\n",
      "Kosovo\n",
      "Andorra\n"
     ]
    }
   ],
   "source": [
    "# print names of all countries\n",
    "for child in document_tree.getroot():\n",
    "    print(child.find('name').text)"
   ]
  },
  {
   "cell_type": "code",
   "execution_count": 15,
   "metadata": {},
   "outputs": [
    {
     "ename": "TypeError",
     "evalue": "'capitals_string' is an invalid keyword argument for this function",
     "output_type": "error",
     "traceback": [
      "\u001b[0;31m---------------------------------------------------------------------------\u001b[0m",
      "\u001b[0;31mTypeError\u001b[0m                                 Traceback (most recent call last)",
      "\u001b[0;32m<ipython-input-15-9bee85dc190c>\u001b[0m in \u001b[0;36m<module>\u001b[0;34m()\u001b[0m\n\u001b[1;32m      2\u001b[0m \u001b[1;32mfor\u001b[0m \u001b[0melement\u001b[0m \u001b[1;32min\u001b[0m \u001b[0mdocument_tree\u001b[0m\u001b[1;33m.\u001b[0m\u001b[0miterfind\u001b[0m\u001b[1;33m(\u001b[0m\u001b[1;34m'country'\u001b[0m\u001b[1;33m)\u001b[0m\u001b[1;33m:\u001b[0m\u001b[1;33m\u001b[0m\u001b[0m\n\u001b[1;32m      3\u001b[0m     print( '* ' + element.find('name').text + ':',\n\u001b[0;32m----> 4\u001b[0;31m     capitals_string = '')\n\u001b[0m\u001b[1;32m      5\u001b[0m     \u001b[1;32mfor\u001b[0m \u001b[0msubelement\u001b[0m \u001b[1;32min\u001b[0m \u001b[0melement\u001b[0m\u001b[1;33m.\u001b[0m\u001b[0mgetiterator\u001b[0m\u001b[1;33m(\u001b[0m\u001b[1;34m'city'\u001b[0m\u001b[1;33m)\u001b[0m\u001b[1;33m:\u001b[0m\u001b[1;33m\u001b[0m\u001b[0m\n\u001b[1;32m      6\u001b[0m         \u001b[0mcapitals_string\u001b[0m \u001b[1;33m+=\u001b[0m \u001b[0msubelement\u001b[0m\u001b[1;33m.\u001b[0m\u001b[0mfind\u001b[0m\u001b[1;33m(\u001b[0m\u001b[1;34m'name'\u001b[0m\u001b[1;33m)\u001b[0m\u001b[1;33m.\u001b[0m\u001b[0mtext\u001b[0m \u001b[1;33m+\u001b[0m \u001b[1;34m', '\u001b[0m\u001b[1;33m\u001b[0m\u001b[0m\n",
      "\u001b[0;31mTypeError\u001b[0m: 'capitals_string' is an invalid keyword argument for this function"
     ]
    }
   ],
   "source": [
    "# print names of all countries and their cities\n",
    "for element in document_tree.iterfind('country'):\n",
    "    print '* ' + element.find('name').text + ':',\n",
    "    capitals_string = ''\n",
    "    for subelement in element.getiterator('city'):\n",
    "        capitals_string += subelement.find('name').text + ', '\n",
    "    print capitals_string[:-2]"
   ]
  },
  {
   "cell_type": "markdown",
   "metadata": {},
   "source": [
    "****\n",
    "## XML exercise\n",
    "\n",
    "Using data in 'data/mondial_database.xml', the examples above, and refering to https://docs.python.org/2.7/library/xml.etree.elementtree.html, find\n",
    "\n",
    "1. 10 countries with the lowest infant mortality rates\n",
    "2. 10 cities with the largest population\n",
    "3. 10 ethnic groups with the largest overall populations (sum of best/latest estimates over all countries)\n",
    "4. name and country of a) longest river, b) largest lake and c) airport at highest elevation"
   ]
  },
  {
   "cell_type": "code",
   "execution_count": 52,
   "metadata": {},
   "outputs": [],
   "source": [
    "tree = ET.parse( './data/mondial_database_less.xml' ) # parse the xml file\n",
    "root = tree.getroot()# get the \"root\" of the xml document\n"
   ]
  },
  {
   "cell_type": "code",
   "execution_count": 71,
   "metadata": {},
   "outputs": [
    {
     "name": "stdout",
     "output_type": "stream",
     "text": [
      "7\n",
      "[<Element 'country' at 0x000001B442608368>, <Element 'country' at 0x000001B441FC1048>, <Element 'country' at 0x000001B441FD3C28>, <Element 'country' at 0x000001B441FDBE58>, <Element 'country' at 0x000001B441FE83B8>, <Element 'country' at 0x000001B441FEF278>, <Element 'country' at 0x000001B441FEFCC8>]\n"
     ]
    },
    {
     "data": {
      "text/plain": [
       "[<Element 'name' at 0x000001B442608318>,\n",
       " <Element 'population' at 0x000001B442608278>,\n",
       " <Element 'population' at 0x000001B442608228>,\n",
       " <Element 'population' at 0x000001B4426081D8>,\n",
       " <Element 'population' at 0x000001B442608188>,\n",
       " <Element 'population' at 0x000001B442608138>,\n",
       " <Element 'population' at 0x000001B4426080E8>,\n",
       " <Element 'population' at 0x000001B442608098>,\n",
       " <Element 'population' at 0x000001B442608048>,\n",
       " <Element 'population' at 0x000001B43DC86688>,\n",
       " <Element 'population_growth' at 0x000001B43DC86868>,\n",
       " <Element 'infant_mortality' at 0x000001B43DC86A98>,\n",
       " <Element 'gdp_total' at 0x000001B4420264F8>,\n",
       " <Element 'gdp_agri' at 0x000001B442026958>,\n",
       " <Element 'gdp_ind' at 0x000001B442026818>,\n",
       " <Element 'gdp_serv' at 0x000001B442026688>,\n",
       " <Element 'inflation' at 0x000001B442026868>,\n",
       " <Element 'unemployment' at 0x000001B4420266D8>,\n",
       " <Element 'indep_date' at 0x000001B442026A98>,\n",
       " <Element 'government' at 0x000001B4420269A8>,\n",
       " <Element 'encompassed' at 0x000001B4420269F8>,\n",
       " <Element 'ethnicgroup' at 0x000001B442026AE8>,\n",
       " <Element 'ethnicgroup' at 0x000001B442026F98>,\n",
       " <Element 'religion' at 0x000001B442026F48>,\n",
       " <Element 'religion' at 0x000001B442026EF8>,\n",
       " <Element 'religion' at 0x000001B442026EA8>,\n",
       " <Element 'language' at 0x000001B442026E58>,\n",
       " <Element 'language' at 0x000001B442026E08>,\n",
       " <Element 'border' at 0x000001B442026DB8>,\n",
       " <Element 'border' at 0x000001B442026D68>,\n",
       " <Element 'border' at 0x000001B442026D18>,\n",
       " <Element 'border' at 0x000001B442026CC8>,\n",
       " <Element 'city' at 0x000001B442026C78>,\n",
       " <Element 'city' at 0x000001B441FB44A8>,\n",
       " <Element 'city' at 0x000001B441FB46D8>,\n",
       " <Element 'city' at 0x000001B441FB4958>,\n",
       " <Element 'city' at 0x000001B441FB4BD8>,\n",
       " <Element 'city' at 0x000001B441FB4DB8>]"
      ]
     },
     "execution_count": 71,
     "metadata": {},
     "output_type": "execute_result"
    }
   ],
   "source": [
    "print(len(root.getchildren()))\n",
    "\n",
    "print(root.getchildren())\n",
    "\n",
    "root.getchildren()[0].getchildren()"
   ]
  },
  {
   "cell_type": "code",
   "execution_count": 128,
   "metadata": {},
   "outputs": [
    {
     "ename": "SyntaxError",
     "evalue": "invalid syntax (<ipython-input-128-bbd2bb2ad11d>, line 3)",
     "output_type": "error",
     "traceback": [
      "\u001b[0;36m  File \u001b[0;32m\"<ipython-input-128-bbd2bb2ad11d>\"\u001b[0;36m, line \u001b[0;32m3\u001b[0m\n\u001b[0;31m    print x.findtext(population)\u001b[0m\n\u001b[0m          ^\u001b[0m\n\u001b[0;31mSyntaxError\u001b[0m\u001b[0;31m:\u001b[0m invalid syntax\n"
     ]
    }
   ],
   "source": [
    "x = [pop for pop in root.findall('country') if pop.findtext('population')]\n",
    "for pop in x:\n",
    "    print x.findtext(population)"
   ]
  },
  {
   "cell_type": "markdown",
   "metadata": {},
   "source": [
    "Question 1. 10 Countries with lowest infant mortality Rates"
   ]
  },
  {
   "cell_type": "code",
   "execution_count": 113,
   "metadata": {},
   "outputs": [
    {
     "data": {
      "text/plain": [
       "[('measured', 'est.'), ('year', '2000')]"
      ]
     },
     "execution_count": 113,
     "metadata": {},
     "output_type": "execute_result"
    }
   ],
   "source": [
    "root.getchildren()[0].getchildren()[7].items()"
   ]
  },
  {
   "cell_type": "code",
   "execution_count": 127,
   "metadata": {},
   "outputs": [
    {
     "ename": "AttributeError",
     "evalue": "'list' object has no attribute 'getchildren'",
     "output_type": "error",
     "traceback": [
      "\u001b[0;31m---------------------------------------------------------------------------\u001b[0m",
      "\u001b[0;31mAttributeError\u001b[0m                            Traceback (most recent call last)",
      "\u001b[0;32m<ipython-input-127-102092a3d0f9>\u001b[0m in \u001b[0;36m<module>\u001b[0;34m()\u001b[0m\n\u001b[0;32m----> 1\u001b[0;31m \u001b[0mx\u001b[0m\u001b[1;33m.\u001b[0m\u001b[0mgetchildren\u001b[0m\u001b[1;33m(\u001b[0m\u001b[1;33m)\u001b[0m\u001b[1;33m\u001b[0m\u001b[0m\n\u001b[0m",
      "\u001b[0;31mAttributeError\u001b[0m: 'list' object has no attribute 'getchildren'"
     ]
    }
   ],
   "source": []
  },
  {
   "cell_type": "code",
   "execution_count": null,
   "metadata": {},
   "outputs": [],
   "source": []
  }
 ],
 "metadata": {
  "kernelspec": {
   "display_name": "Python 3",
   "language": "python",
   "name": "python3"
  },
  "language_info": {
   "codemirror_mode": {
    "name": "ipython",
    "version": 3
   },
   "file_extension": ".py",
   "mimetype": "text/x-python",
   "name": "python",
   "nbconvert_exporter": "python",
   "pygments_lexer": "ipython3",
   "version": "3.6.0"
  }
 },
 "nbformat": 4,
 "nbformat_minor": 1
}
