{
 "cells": [
  {
   "cell_type": "markdown",
   "metadata": {},
   "source": [
    "# XML example and exercise\n",
    "****\n",
    "+ study examples of accessing nodes in XML tree structure  \n",
    "+ work on exercise to be completed and submitted\n",
    "****\n",
    "+ reference: https://docs.python.org/2.7/library/xml.etree.elementtree.html\n",
    "+ data source: http://www.dbis.informatik.uni-goettingen.de/Mondial\n",
    "****"
   ]
  },
  {
   "cell_type": "code",
   "execution_count": 1,
   "metadata": {
    "collapsed": true
   },
   "outputs": [],
   "source": [
    "from xml.etree import ElementTree as ET"
   ]
  },
  {
   "cell_type": "markdown",
   "metadata": {},
   "source": [
    "## XML example\n",
    "\n",
    "+ for details about tree traversal and iterators, see https://docs.python.org/2.7/library/xml.etree.elementtree.html"
   ]
  },
  {
   "cell_type": "code",
   "execution_count": 2,
   "metadata": {
    "collapsed": true
   },
   "outputs": [],
   "source": [
    "document_tree = ET.parse( './data/mondial_database_less.xml' )"
   ]
  },
  {
   "cell_type": "code",
   "execution_count": 3,
   "metadata": {
    "collapsed": false
   },
   "outputs": [
    {
     "name": "stdout",
     "output_type": "stream",
     "text": [
      "Albania\n",
      "Greece\n",
      "Macedonia\n",
      "Serbia\n",
      "Montenegro\n",
      "Kosovo\n",
      "Andorra\n"
     ]
    }
   ],
   "source": [
    "# print names of all countries\n",
    "for child in document_tree.getroot():\n",
    "    print(child.find('name').text)"
   ]
  },
  {
   "cell_type": "code",
   "execution_count": 4,
   "metadata": {
    "collapsed": false
   },
   "outputs": [
    {
     "ename": "SyntaxError",
     "evalue": "invalid syntax (<ipython-input-4-6645883cfe43>, line 3)",
     "output_type": "error",
     "traceback": [
      "\u001b[0;36m  File \u001b[0;32m\"<ipython-input-4-6645883cfe43>\"\u001b[0;36m, line \u001b[0;32m3\u001b[0m\n\u001b[0;31m    print '* ' + element.find('name').text + ':',\u001b[0m\n\u001b[0m             ^\u001b[0m\n\u001b[0;31mSyntaxError\u001b[0m\u001b[0;31m:\u001b[0m invalid syntax\n"
     ]
    }
   ],
   "source": [
    "# print names of all countries and their cities\n",
    "for element in document_tree.iterfind('country'):\n",
    "    print '* ' + element.find('name').text + ':',\n",
    "    capitals_string = ''\n",
    "    for subelement in element.getiterator('city'):\n",
    "        capitals_string += subelement.find('name').text + ', '\n",
    "    print capitals_string[:-2]"
   ]
  },
  {
   "cell_type": "markdown",
   "metadata": {},
   "source": [
    "****\n",
    "## XML exercise\n",
    "\n",
    "Using data in 'data/mondial_database.xml', the examples above, and refering to https://docs.python.org/2.7/library/xml.etree.elementtree.html, find\n",
    "\n",
    "1. 10 countries with the lowest infant mortality rates\n",
    "2. 10 cities with the largest population\n",
    "3. 10 ethnic groups with the largest overall populations (sum of best/latest estimates over all countries)\n",
    "4. name and country of a) longest river, b) largest lake and c) airport at highest elevation"
   ]
  },
  {
   "cell_type": "code",
   "execution_count": 163,
   "metadata": {
    "collapsed": false
   },
   "outputs": [],
   "source": [
    "tree = ET.parse( './data/mondial_database.xml' ) # parse the xml file\n",
    "root = tree.getroot()# get the \"root\" of the xml document\n",
    "\n",
    "tree_less = ET.parse( './data/mondial_database_less.xml' ) # parse the xml file\n",
    "root_less = tree_less.getroot()# get the \"root\" of the xml document\n",
    "\n",
    "import pandas as pd"
   ]
  },
  {
   "cell_type": "markdown",
   "metadata": {},
   "source": [
    "Question 1. 10 Countries with lowest infant mortality Rates"
   ]
  },
  {
   "cell_type": "code",
   "execution_count": 158,
   "metadata": {
    "collapsed": false,
    "scrolled": true
   },
   "outputs": [
    {
     "data": {
      "text/html": [
       "<div>\n",
       "<table border=\"1\" class=\"dataframe\">\n",
       "  <thead>\n",
       "    <tr style=\"text-align: right;\">\n",
       "      <th></th>\n",
       "      <th>im</th>\n",
       "    </tr>\n",
       "  </thead>\n",
       "  <tbody>\n",
       "    <tr>\n",
       "      <th>Western Sahara</th>\n",
       "      <td>145.82</td>\n",
       "    </tr>\n",
       "    <tr>\n",
       "      <th>Afghanistan</th>\n",
       "      <td>117.23</td>\n",
       "    </tr>\n",
       "    <tr>\n",
       "      <th>Mali</th>\n",
       "      <td>104.34</td>\n",
       "    </tr>\n",
       "    <tr>\n",
       "      <th>Somalia</th>\n",
       "      <td>100.14</td>\n",
       "    </tr>\n",
       "    <tr>\n",
       "      <th>Central African Republic</th>\n",
       "      <td>92.86</td>\n",
       "    </tr>\n",
       "    <tr>\n",
       "      <th>Guinea-Bissau</th>\n",
       "      <td>90.92</td>\n",
       "    </tr>\n",
       "    <tr>\n",
       "      <th>Chad</th>\n",
       "      <td>90.30</td>\n",
       "    </tr>\n",
       "    <tr>\n",
       "      <th>Niger</th>\n",
       "      <td>86.27</td>\n",
       "    </tr>\n",
       "    <tr>\n",
       "      <th>Angola</th>\n",
       "      <td>79.99</td>\n",
       "    </tr>\n",
       "    <tr>\n",
       "      <th>Burkina Faso</th>\n",
       "      <td>76.80</td>\n",
       "    </tr>\n",
       "  </tbody>\n",
       "</table>\n",
       "</div>"
      ],
      "text/plain": [
       "                              im\n",
       "Western Sahara            145.82\n",
       "Afghanistan               117.23\n",
       "Mali                      104.34\n",
       "Somalia                   100.14\n",
       "Central African Republic   92.86\n",
       "Guinea-Bissau              90.92\n",
       "Chad                       90.30\n",
       "Niger                      86.27\n",
       "Angola                     79.99\n",
       "Burkina Faso               76.80"
      ]
     },
     "execution_count": 158,
     "metadata": {},
     "output_type": "execute_result"
    }
   ],
   "source": [
    "d = []\n",
    "\n",
    "for i in root.findall('country'): # use this to find each tag with \"country\" and look into its children\n",
    "    name = i.find('name').text # find child with name and grab text\n",
    "    \n",
    "    #  condition for no mortality data, place None! else use infant mortality data\n",
    "    if i.find('infant_mortality') is None: \n",
    "        infant_mortality = None\n",
    "    else:\n",
    "        infant_mortality = i.find('infant_mortality').text\n",
    "        \n",
    "        # Create the row of data\n",
    "        row = pd.DataFrame({\n",
    "            'im':[infant_mortality],\n",
    "            'name':[name]\n",
    "        }).set_index('name') # set index as name\n",
    "        d.append(row) # append row to empty dataframe\n",
    "\n",
    "d = pd.concat(d) # concatenate all rows\n",
    "d.index.name = None # remove the column name from index\n",
    "d.im = pd.to_numeric(d.im) # convert to numeric\n",
    "d.sort_values('im', ascending = 0)[0:10] # sort and grab top 10"
   ]
  },
  {
   "cell_type": "markdown",
   "metadata": {},
   "source": [
    "2. 10 cities with the largest population\n"
   ]
  },
  {
   "cell_type": "code",
   "execution_count": 303,
   "metadata": {
    "collapsed": false
   },
   "outputs": [
    {
     "data": {
      "text/html": [
       "<div>\n",
       "<table border=\"1\" class=\"dataframe\">\n",
       "  <thead>\n",
       "    <tr style=\"text-align: right;\">\n",
       "      <th></th>\n",
       "      <th>latest_population</th>\n",
       "    </tr>\n",
       "  </thead>\n",
       "  <tbody>\n",
       "    <tr>\n",
       "      <th>China</th>\n",
       "      <td>1360720000</td>\n",
       "    </tr>\n",
       "    <tr>\n",
       "      <th>India</th>\n",
       "      <td>1210854977</td>\n",
       "    </tr>\n",
       "    <tr>\n",
       "      <th>United States</th>\n",
       "      <td>318857056</td>\n",
       "    </tr>\n",
       "    <tr>\n",
       "      <th>Indonesia</th>\n",
       "      <td>252124458</td>\n",
       "    </tr>\n",
       "    <tr>\n",
       "      <th>Brazil</th>\n",
       "      <td>202768562</td>\n",
       "    </tr>\n",
       "    <tr>\n",
       "      <th>Pakistan</th>\n",
       "      <td>173149306</td>\n",
       "    </tr>\n",
       "    <tr>\n",
       "      <th>Nigeria</th>\n",
       "      <td>164294516</td>\n",
       "    </tr>\n",
       "    <tr>\n",
       "      <th>Bangladesh</th>\n",
       "      <td>149772364</td>\n",
       "    </tr>\n",
       "    <tr>\n",
       "      <th>Russia</th>\n",
       "      <td>143666931</td>\n",
       "    </tr>\n",
       "    <tr>\n",
       "      <th>Japan</th>\n",
       "      <td>127298000</td>\n",
       "    </tr>\n",
       "  </tbody>\n",
       "</table>\n",
       "</div>"
      ],
      "text/plain": [
       "               latest_population\n",
       "China                 1360720000\n",
       "India                 1210854977\n",
       "United States          318857056\n",
       "Indonesia              252124458\n",
       "Brazil                 202768562\n",
       "Pakistan               173149306\n",
       "Nigeria                164294516\n",
       "Bangladesh             149772364\n",
       "Russia                 143666931\n",
       "Japan                  127298000"
      ]
     },
     "execution_count": 303,
     "metadata": {},
     "output_type": "execute_result"
    }
   ],
   "source": [
    "d2 = [] # instantiate dataframe\n",
    "\n",
    "for i in root.findall('country'): # find all tag and focus on children\n",
    "    ith = i.findall('population').__len__() # grab the nth population recode\n",
    "    x = i.findall('population') # find all the population\n",
    "    latest_population = x[ith-1].text # grab the most recent population record\n",
    "    name = i.find('name').text # grab the name\n",
    "    \n",
    "    d_i = pd.DataFrame( # create a dataframe\n",
    "    {'name':[name], # place name\n",
    "    'latest_population':pd.to_numeric([latest_population])} # place numeric latest population value\n",
    "    ).set_index('name') # set index\n",
    "    \n",
    "    d2.append(d_i) # append dataframe\n",
    "\n",
    "d2 = pd.concat(d2) # concatenate series\n",
    "d2.index.name = None # set index name to None removing space \n",
    "d2 = d2.sort_values('latest_population', ascending = 0) # sort, get top 10\n",
    "d2[0:10]"
   ]
  },
  {
   "cell_type": "code",
   "execution_count": 268,
   "metadata": {
    "collapsed": false
   },
   "outputs": [
    {
     "data": {
      "text/plain": [
       "'95'"
      ]
     },
     "execution_count": 268,
     "metadata": {},
     "output_type": "execute_result"
    }
   ],
   "source": [
    "test = root_less.findall('country')\n",
    "x = test[0].find('ethnicgroup').attrib\n",
    "x['percentage']"
   ]
  },
  {
   "cell_type": "code",
   "execution_count": 338,
   "metadata": {
    "collapsed": false
   },
   "outputs": [
    {
     "data": {
      "text/html": [
       "<div>\n",
       "<table border=\"1\" class=\"dataframe\">\n",
       "  <thead>\n",
       "    <tr style=\"text-align: right;\">\n",
       "      <th></th>\n",
       "      <th>latest_population</th>\n",
       "      <th>ethnic_group</th>\n",
       "      <th>percentage</th>\n",
       "      <th>ethnic_group_population</th>\n",
       "    </tr>\n",
       "  </thead>\n",
       "  <tbody>\n",
       "    <tr>\n",
       "      <th>China</th>\n",
       "      <td>1360720000</td>\n",
       "      <td>Han Chinese</td>\n",
       "      <td>91.500</td>\n",
       "      <td>1245058800.000</td>\n",
       "    </tr>\n",
       "    <tr>\n",
       "      <th>India</th>\n",
       "      <td>1210854977</td>\n",
       "      <td>Mongol</td>\n",
       "      <td>72.000</td>\n",
       "      <td>871815583.000</td>\n",
       "    </tr>\n",
       "    <tr>\n",
       "      <th>United States</th>\n",
       "      <td>318857056</td>\n",
       "      <td>European</td>\n",
       "      <td>79.960</td>\n",
       "      <td>254958102.000</td>\n",
       "    </tr>\n",
       "    <tr>\n",
       "      <th>Nigeria</th>\n",
       "      <td>164294516</td>\n",
       "      <td>African</td>\n",
       "      <td>99.000</td>\n",
       "      <td>162651571.000</td>\n",
       "    </tr>\n",
       "    <tr>\n",
       "      <th>Bangladesh</th>\n",
       "      <td>149772364</td>\n",
       "      <td>Bengali</td>\n",
       "      <td>98.000</td>\n",
       "      <td>146776917.000</td>\n",
       "    </tr>\n",
       "    <tr>\n",
       "      <th>Japan</th>\n",
       "      <td>127298000</td>\n",
       "      <td>Japanese</td>\n",
       "      <td>99.400</td>\n",
       "      <td>126534212.000</td>\n",
       "    </tr>\n",
       "    <tr>\n",
       "      <th>Russia</th>\n",
       "      <td>143666931</td>\n",
       "      <td>Ukrainian</td>\n",
       "      <td>79.800</td>\n",
       "      <td>114646211.000</td>\n",
       "    </tr>\n",
       "    <tr>\n",
       "      <th>Indonesia</th>\n",
       "      <td>252124458</td>\n",
       "      <td>Sundanese</td>\n",
       "      <td>45.000</td>\n",
       "      <td>113456006.000</td>\n",
       "    </tr>\n",
       "    <tr>\n",
       "      <th>Brazil</th>\n",
       "      <td>202768562</td>\n",
       "      <td>Mulatto</td>\n",
       "      <td>53.700</td>\n",
       "      <td>108886718.000</td>\n",
       "    </tr>\n",
       "    <tr>\n",
       "      <th>Philippines</th>\n",
       "      <td>92337852</td>\n",
       "      <td>Malay</td>\n",
       "      <td>95.500</td>\n",
       "      <td>88182649.000</td>\n",
       "    </tr>\n",
       "  </tbody>\n",
       "</table>\n",
       "</div>"
      ],
      "text/plain": [
       "               latest_population ethnic_group  percentage  \\\n",
       "China                 1360720000  Han Chinese      91.500   \n",
       "India                 1210854977       Mongol      72.000   \n",
       "United States          318857056     European      79.960   \n",
       "Nigeria                164294516      African      99.000   \n",
       "Bangladesh             149772364      Bengali      98.000   \n",
       "Japan                  127298000     Japanese      99.400   \n",
       "Russia                 143666931    Ukrainian      79.800   \n",
       "Indonesia              252124458    Sundanese      45.000   \n",
       "Brazil                 202768562      Mulatto      53.700   \n",
       "Philippines             92337852        Malay      95.500   \n",
       "\n",
       "               ethnic_group_population  \n",
       "China                   1245058800.000  \n",
       "India                    871815583.000  \n",
       "United States            254958102.000  \n",
       "Nigeria                  162651571.000  \n",
       "Bangladesh               146776917.000  \n",
       "Japan                    126534212.000  \n",
       "Russia                   114646211.000  \n",
       "Indonesia                113456006.000  \n",
       "Brazil                   108886718.000  \n",
       "Philippines               88182649.000  "
      ]
     },
     "execution_count": 338,
     "metadata": {},
     "output_type": "execute_result"
    }
   ],
   "source": [
    "pd.set_option('display.float_format', lambda x: '%.3f' % x)\n",
    "\n",
    "d3 = []\n",
    "for i in root.findall('country'):\n",
    "    for j in i.findall('ethnicgroup'):\n",
    "        row = pd.DataFrame(\n",
    "        {\n",
    "            'name':[i.find('name').text],\n",
    "            'ethnic_group':[j.text],\n",
    "            'percentage':pd.to_numeric([j.attrib['percentage']])\n",
    "        }).set_index('name')\n",
    "        d3.append(row)\n",
    "        \n",
    "d3 = pd.concat(d3)\n",
    "d3.index.name = None\n",
    "d3 = d3.sort_index()\n",
    "d3 = d3.groupby(d3.index).max()\n",
    "\n",
    "d3 = d2.merge(d3, left_index= True, right_index = True)\n",
    "d3['ethnic_group_population'] = round((d3.percentage/100)*d3.latest_population,0)\n",
    "d3 = d3.sort_values('ethnic_group_population', ascending = 0)\n",
    "d3[0:10]"
   ]
  }
 ],
 "metadata": {
  "kernelspec": {
   "display_name": "Python 3",
   "language": "python",
   "name": "python3"
  },
  "language_info": {
   "codemirror_mode": {
    "name": "ipython",
    "version": 3
   },
   "file_extension": ".py",
   "mimetype": "text/x-python",
   "name": "python",
   "nbconvert_exporter": "python",
   "pygments_lexer": "ipython3",
   "version": "3.6.0"
  }
 },
 "nbformat": 4,
 "nbformat_minor": 1
}
